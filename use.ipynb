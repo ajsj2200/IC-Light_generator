{
 "cells": [
  {
   "cell_type": "markdown",
   "metadata": {},
   "source": [
    "# 데이터 생성"
   ]
  },
  {
   "cell_type": "code",
   "execution_count": null,
   "metadata": {},
   "outputs": [],
   "source": [
    "!python generate_data.py\n"
   ]
  },
  {
   "cell_type": "markdown",
   "metadata": {},
   "source": [
    "# 데이터 업데이트"
   ]
  },
  {
   "cell_type": "code",
   "execution_count": 2,
   "metadata": {},
   "outputs": [
    {
     "name": "stdout",
     "output_type": "stream",
     "text": [
      "디렉토리에서 발견된 이미지 수: 992\n",
      "원본 이미지 수: 1078\n",
      "원본 어노테이션 수: 1078\n",
      "업데이트된 이미지 수: 992\n",
      "업데이트된 어노테이션 수: 992\n",
      "업데이트된 COCO JSON 파일이 저장되었습니다: output/updated_coco_20241211_072102.json\n"
     ]
    }
   ],
   "source": [
    "# 데이터 수동으로 삭제 후 실행.\n",
    "!python update_coco_json.py"
   ]
  }
 ],
 "metadata": {
  "kernelspec": {
   "display_name": "Python 3",
   "language": "python",
   "name": "python3"
  },
  "language_info": {
   "codemirror_mode": {
    "name": "ipython",
    "version": 3
   },
   "file_extension": ".py",
   "mimetype": "text/x-python",
   "name": "python",
   "nbconvert_exporter": "python",
   "pygments_lexer": "ipython3",
   "version": "3.12.7"
  }
 },
 "nbformat": 4,
 "nbformat_minor": 2
}
